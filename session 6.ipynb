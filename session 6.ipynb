{
 "cells": [
  {
   "cell_type": "markdown",
   "metadata": {},
   "source": [
    "# Inheritance"
   ]
  },
  {
   "cell_type": "code",
   "execution_count": 9,
   "metadata": {},
   "outputs": [],
   "source": [
    "class Person:\n",
    "    #Parent class\n",
    "    def __init__(self, first, last):  #constructor of parent class\n",
    "        self.firstname=first\n",
    "        self.lastname=last\n",
    "        \n",
    "    def Name(self):\n",
    "        return self.firstname + \" \" +self.lastname"
   ]
  },
  {
   "cell_type": "code",
   "execution_count": 22,
   "metadata": {},
   "outputs": [],
   "source": [
    "class Employee(Person):\n",
    "    #Child class \n",
    "    def __init__(self,first,last,staffnum):  #constructoe of the child class\n",
    "        Person.__init__(self,first,last)   #Parent class constructor\n",
    "        self.staffnumber=staffnum\n",
    "        \n",
    "    def GetEmployee(self):\n",
    "        return self.Name() + \" ,\" + self.staffnumber"
   ]
  },
  {
   "cell_type": "code",
   "execution_count": 23,
   "metadata": {},
   "outputs": [],
   "source": [
    "x= Person(\"marge\",\"Simpson\")\n",
    "y= Employee(\"Homer\",\"Simpson\",\"1007\")"
   ]
  },
  {
   "cell_type": "code",
   "execution_count": 24,
   "metadata": {},
   "outputs": [
    {
     "name": "stdout",
     "output_type": "stream",
     "text": [
      "marge Simpson\n",
      "Homer Simpson ,1007\n"
     ]
    }
   ],
   "source": [
    "print(x.Name())\n",
    "print(y.GetEmployee())"
   ]
  },
  {
   "cell_type": "markdown",
   "metadata": {},
   "source": [
    "# Exception Handling"
   ]
  },
  {
   "cell_type": "markdown",
   "metadata": {},
   "source": [
    "certain cases we get error so here we use the try and exception cases"
   ]
  },
  {
   "cell_type": "markdown",
   "metadata": {},
   "source": [
    "e.g Division by Zero"
   ]
  },
  {
   "cell_type": "code",
   "execution_count": 27,
   "metadata": {},
   "outputs": [
    {
     "name": "stdout",
     "output_type": "stream",
     "text": [
      "You don't know maths\n"
     ]
    }
   ],
   "source": [
    "try:\n",
    "    c=5/0\n",
    "    print(c)\n",
    "except ZeroDivisionError:\n",
    "    print(\"You don't know maths\")"
   ]
  },
  {
   "cell_type": "code",
   "execution_count": 33,
   "metadata": {},
   "outputs": [],
   "source": [
    "fh= open('newfile.txt','w')\n",
    "try:\n",
    "    fh.write(\"cecec\")\n",
    "    #print(fh.read())\n",
    "    \n",
    "except IOError:\n",
    "    peint(\"Can't write in this file\")\n",
    "    \n",
    "finally:\n",
    "    fh.close()"
   ]
  },
  {
   "cell_type": "code",
   "execution_count": 38,
   "metadata": {},
   "outputs": [
    {
     "name": "stdout",
     "output_type": "stream",
     "text": [
      "Enter the 1st no.:6\n",
      "Enter the 2nd no.:0\n",
      "can't divide by zero\n",
      "Program Completed\n"
     ]
    }
   ],
   "source": [
    "x=int(input('Enter the 1st no.:'))\n",
    "y= int(input('Enter the 2nd no.:'))\n",
    "\n",
    "try:\n",
    "    c=x/y\n",
    "    print(c)\n",
    "except:\n",
    "    print(\"can't divide by zero\")\n",
    "    \n",
    "finally:\n",
    "    print(\"Program Completed\")"
   ]
  },
  {
   "cell_type": "code",
   "execution_count": 39,
   "metadata": {},
   "outputs": [
    {
     "name": "stdout",
     "output_type": "stream",
     "text": [
      "not found\n"
     ]
    }
   ],
   "source": [
    "try:\n",
    "    print(var)\n",
    "except NameError:\n",
    "    print(\"not found\")\n",
    "    "
   ]
  },
  {
   "cell_type": "code",
   "execution_count": 2,
   "metadata": {},
   "outputs": [
    {
     "name": "stdout",
     "output_type": "stream",
     "text": [
      "Error: can't find this file\n"
     ]
    }
   ],
   "source": [
    "try:\n",
    "    fh=open('abc.txt','r')\n",
    "except IOError:\n",
    "    print(\"Error: can't find this file\")\n",
    "else:\n",
    "    print(\"Read contents of the file sucessfully\")\n",
    "    fh.close()"
   ]
  },
  {
   "cell_type": "markdown",
   "metadata": {},
   "source": [
    "# printing the exact error statement"
   ]
  },
  {
   "cell_type": "code",
   "execution_count": 1,
   "metadata": {},
   "outputs": [
    {
     "name": "stdout",
     "output_type": "stream",
     "text": [
      "enter 1st number: 2\n",
      "enter 2nd number: 0\n",
      "division by zero\n"
     ]
    }
   ],
   "source": [
    "try:\n",
    "    x=int(input(\"enter 1st number: \"))\n",
    "    y=int(input(\"enter 2nd number: \"))\n",
    "    z=x/y\n",
    "except ZeroDivisionError as ar:\n",
    "    print(ar)"
   ]
  },
  {
   "cell_type": "code",
   "execution_count": 68,
   "metadata": {},
   "outputs": [],
   "source": [
    "count=0\n",
    "class robot:\n",
    "    def __init__(self,name):\n",
    "        self.name=name\n",
    "        print(\"robot's name is: \", self.name)\n",
    "        global count\n",
    "        count=count+1\n",
    "    def _die_(self):\n",
    "        global count\n",
    "        count=count-1\n",
    "        print(\"total robots:\", count)\n",
    "        "
   ]
  },
  {
   "cell_type": "code",
   "execution_count": 69,
   "metadata": {},
   "outputs": [
    {
     "name": "stdout",
     "output_type": "stream",
     "text": [
      "robot's name is:  r001\n"
     ]
    }
   ],
   "source": [
    "r1=robot(\"r001\")"
   ]
  },
  {
   "cell_type": "code",
   "execution_count": 70,
   "metadata": {},
   "outputs": [
    {
     "name": "stdout",
     "output_type": "stream",
     "text": [
      "robot's name is:  r002\n"
     ]
    }
   ],
   "source": [
    "r1=robot(\"r002\")"
   ]
  },
  {
   "cell_type": "code",
   "execution_count": 71,
   "metadata": {},
   "outputs": [
    {
     "name": "stdout",
     "output_type": "stream",
     "text": [
      "total robots: 1\n"
     ]
    }
   ],
   "source": [
    "r1._die_()"
   ]
  },
  {
   "cell_type": "code",
   "execution_count": null,
   "metadata": {},
   "outputs": [],
   "source": []
  }
 ],
 "metadata": {
  "kernelspec": {
   "display_name": "Python 3",
   "language": "python",
   "name": "python3"
  },
  "language_info": {
   "codemirror_mode": {
    "name": "ipython",
    "version": 3
   },
   "file_extension": ".py",
   "mimetype": "text/x-python",
   "name": "python",
   "nbconvert_exporter": "python",
   "pygments_lexer": "ipython3",
   "version": "3.6.5"
  }
 },
 "nbformat": 4,
 "nbformat_minor": 2
}
